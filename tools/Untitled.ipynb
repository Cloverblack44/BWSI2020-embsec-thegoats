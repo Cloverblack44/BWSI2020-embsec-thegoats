{
 "cells": [
  {
   "cell_type": "code",
   "execution_count": null,
   "metadata": {},
   "outputs": [],
   "source": [
    "from Crypto.Protocol.KDF import PBKDF2\n",
    "from Crypto.Hash import SHA512\n",
    "from Crypto.Random import get_random_bytes\n",
    "\n",
    "password = b'my super secret'\n",
    "salt = get_random_bytes(16)\n",
    "print(salt)\n",
    "keys = PBKDF2(password, salt, 16, count=1000000, hmac_hash_module=SHA512)\n",
    "for i in range(len(keys)):\n",
    "    print(keys[i])"
   ]
  },
  {
   "cell_type": "code",
   "execution_count": null,
   "metadata": {},
   "outputs": [],
   "source": [
    "from Crypto.Protocol.KDF import PBKDF2\n",
    "from Crypto.Hash import SHA256\n",
    "from Crypto.Random import get_random_bytes\n",
    "\n",
    "def generate_keys(n):\n",
    "    \n",
    "    password = b'hello there'\n",
    "    \n",
    "    salt = get_random_bytes(16)\n",
    "    iteration = n\n",
    "    keys = PBKDF2(password, salt, 32, count=iteration, hmac_hash_module=SHA256)\n",
    "    key1 = keys[:16]\n",
    "    key2 = keys[16:]\n",
    "\n",
    "    print(key1)\n",
    "    print(key2)\n",
    "    return key1, key2, salt\n",
    "\n",
    "generate_keys(20)"
   ]
  },
  {
   "cell_type": "code",
   "execution_count": 21,
   "metadata": {},
   "outputs": [
    {
     "name": "stdout",
     "output_type": "stream",
     "text": [
      "16\n"
     ]
    }
   ],
   "source": [
    "from Crypto.Util.Padding import pad, unpad\n",
    "from Crypto.Cipher import AES\n",
    "from Crypto.Random import get_random_bytes\n",
    "\n",
    "data = b'Unaligned'   # 9 bytes\n",
    "key = get_random_bytes(32)\n",
    "iv = get_random_bytes(16)\n",
    "cipher1 = AES.new(key, AES.MODE_CBC, iv)\n",
    "ct = cipher1.encrypt(pad(data, 16))\n",
    "cipher2 = AES.new(key, AES.MODE_CBC, iv)\n",
    "pt = unpad(cipher2.decrypt(ct), 16)\n",
    "assert(data == pt)"
   ]
  },
  {
   "cell_type": "code",
   "execution_count": 40,
   "metadata": {},
   "outputs": [
    {
     "name": "stdout",
     "output_type": "stream",
     "text": [
      "b'\\x06\\xc5\\x0f$\\xfdM]\\xeb\\xac\\xa3\\xbfC\\xf4\\xc2\\x05\\xbe'\n",
      "b'\\xac\\x13c\\xba\\x19\\xf1\\x97\\x0f\\x14\\xe8+d\\xa0\\xc0a\\xed'\n"
     ]
    }
   ],
   "source": [
    "from Crypto.Protocol.KDF import HKDF\n",
    "from Crypto.Hash import SHA512\n",
    "from Crypto.Random import get_random_bytes\n",
    "\n",
    "def generate_keys_hkdf(mySalt):\n",
    "    #Crypto.Protocol.KDF.HKDF(master, key_len, salt, hashmod, num_keys=1, context=None)\n",
    "    with open('secret_build_output.txt', 'rb') as fp:\n",
    "        password = fp.read()\n",
    "    key1, key2 = HKDF(password, 16, mySalt, SHA512, 2)\n",
    "    print(key1)\n",
    "    print(key2)\n",
    "    return key1, key2\n",
    "generate_keys_hkdf(get_random_bytes(32));"
   ]
  }
 ],
 "metadata": {
  "kernelspec": {
   "display_name": "Python 3",
   "language": "python",
   "name": "python3"
  },
  "language_info": {
   "codemirror_mode": {
    "name": "ipython",
    "version": 3
   },
   "file_extension": ".py",
   "mimetype": "text/x-python",
   "name": "python",
   "nbconvert_exporter": "python",
   "pygments_lexer": "ipython3",
   "version": "3.7.6"
  }
 },
 "nbformat": 4,
 "nbformat_minor": 4
}
