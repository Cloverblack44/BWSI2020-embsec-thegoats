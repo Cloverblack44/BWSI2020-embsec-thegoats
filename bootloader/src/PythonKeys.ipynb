{
 "cells": [
  {
   "cell_type": "markdown",
   "metadata": {},
   "source": [
    "Python Stuff"
   ]
  },
  {
   "cell_type": "code",
   "execution_count": 26,
   "metadata": {},
   "outputs": [
    {
     "name": "stdout",
     "output_type": "stream",
     "text": [
      "b'T\\xdfO\\x9cm\\xca\\xc7\\x13I\\n\\x87hi\\xf5~]'\n",
      "b'\\x07\\xb1\\xdapg\\xef\\xdf\\xb8XZ\\x05\\x89\\xb9\\x17\\x82\\xd8'\n"
     ]
    },
    {
     "data": {
      "text/plain": [
       "(b'T\\xdfO\\x9cm\\xca\\xc7\\x13I\\n\\x87hi\\xf5~]',\n",
       " b'\\x07\\xb1\\xdapg\\xef\\xdf\\xb8XZ\\x05\\x89\\xb9\\x17\\x82\\xd8',\n",
       " b'\\xd9\\xc9\\x80T\\xae:\\x12_cz\\xbc\\xed\\t\\x02\\xad\\x14')"
      ]
     },
     "execution_count": 26,
     "metadata": {},
     "output_type": "execute_result"
    }
   ],
   "source": [
    "from Crypto.Protocol.KDF import PBKDF2\n",
    "from Crypto.Hash import SHA256\n",
    "from Crypto.Random import get_random_bytes\n",
    "\n",
    "def generate_keys(n):\n",
    "    \n",
    "    with open('secret_build_output.txt', 'r') as fp:\n",
    "        password = fp.read()\n",
    "    \n",
    "    salt = get_random_bytes(16)\n",
    "    iteration = n\n",
    "    keys = PBKDF2(password, salt, 32, count=iteration, hmac_hash_module=SHA256)\n",
    "    key1 = keys[:16]\n",
    "    key2 = keys[16:]\n",
    "\n",
    "    print(key1)\n",
    "    print(key2)\n",
    "    \n",
    "    return key1, key2, salt\n",
    "\n",
    "generate_keys(1000000)"
   ]
  },
  {
   "cell_type": "code",
   "execution_count": 19,
   "metadata": {},
   "outputs": [
    {
     "name": "stdout",
     "output_type": "stream",
     "text": [
      "[141, 6, 215, 75, 148, 164, 44, 162]\n"
     ]
    }
   ],
   "source": [
    "import random\n",
    "\n",
    "random.seed(0xDEADBEED)\n",
    "mylist = []  # an empty list\n",
    "\n",
    "i = 0\n",
    "num = 1\n",
    "for j in range(0, num):\n",
    "    \n",
    "    #creates a new key\n",
    "    for i in range(0, 8):\n",
    "        myrandom = random.randint(0, 255)\n",
    "        mylist.append(myrandom)\n",
    "    \n",
    "    #use previous key as seed for next iteration\n",
    "    \n",
    "    #seed = new Seed\n",
    "\n",
    "print(mylist)"
   ]
  },
  {
   "cell_type": "code",
   "execution_count": 17,
   "metadata": {},
   "outputs": [],
   "source": []
  },
  {
   "cell_type": "code",
   "execution_count": null,
   "metadata": {},
   "outputs": [],
   "source": []
  },
  {
   "cell_type": "code",
   "execution_count": null,
   "metadata": {},
   "outputs": [],
   "source": []
  }
 ],
 "metadata": {
  "kernelspec": {
   "display_name": "Python 3",
   "language": "python",
   "name": "python3"
  },
  "language_info": {
   "codemirror_mode": {
    "name": "ipython",
    "version": 3
   },
   "file_extension": ".py",
   "mimetype": "text/x-python",
   "name": "python",
   "nbconvert_exporter": "python",
   "pygments_lexer": "ipython3",
   "version": "3.7.6"
  }
 },
 "nbformat": 4,
 "nbformat_minor": 4
}
