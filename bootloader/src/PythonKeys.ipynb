{
 "cells": [
  {
   "cell_type": "markdown",
   "metadata": {},
   "source": [
    "Python Stuff"
   ]
  },
  {
   "cell_type": "markdown",
   "metadata": {},
   "source": [
    "HKDF"
   ]
  },
  {
   "cell_type": "code",
   "execution_count": 30,
   "metadata": {},
   "outputs": [
    {
     "name": "stdout",
     "output_type": "stream",
     "text": [
      "b'\"\\x07\\x0b\\x19\\x7f\\xc0W#\\xbd\\x0ew\\x8b\\xbb\\xa2@\\xc8*\\xda\\xa1{\\xc2\\xcfG\\x14\\xea\\x97\\xa3\\xbb\\xea\\x9fd$'\n",
      "b'b\\x99\\xc1\\x94\\x97E\\x95}\\x1b\\x9a\\xadp\\xaa\\x7f\\xcf=f\\xed\\xa1\\x1a%\\x1e\\x13\"\\x11n\\t\\xd1\\xb3\\xe3\\x11\\xd4'\n"
     ]
    }
   ],
   "source": [
    "from Crypto.Protocol.KDF import HKDF\n",
    "from Crypto.Hash import SHA512\n",
    "from Crypto.Random import get_random_bytes\n",
    "\n",
    "def generate_keys_hkdf(mySalt):\n",
    "    #Crypto.Protocol.KDF.HKDF(master, key_len, salt, hashmod, num_keys=1, context=None)\n",
    "    with open('secret_build_output.txt', 'rb') as fp:\n",
    "        password = fp.read()\n",
    "\n",
    "    key1, key2 = HKDF(password, 16, mySalt, SHA512, 2)\n",
    "\n",
    "    print(key1)\n",
    "    print(key2)\n",
    "\n",
    "generate_keys_hkdf(get_random_bytes(16));"
   ]
  },
  {
   "cell_type": "code",
   "execution_count": null,
   "metadata": {},
   "outputs": [],
   "source": []
  },
  {
   "cell_type": "code",
   "execution_count": null,
   "metadata": {},
   "outputs": [],
   "source": []
  },
  {
   "cell_type": "code",
   "execution_count": null,
   "metadata": {},
   "outputs": [],
   "source": []
  },
  {
   "cell_type": "code",
   "execution_count": null,
   "metadata": {},
   "outputs": [],
   "source": []
  },
  {
   "cell_type": "code",
   "execution_count": null,
   "metadata": {},
   "outputs": [],
   "source": []
  },
  {
   "cell_type": "code",
   "execution_count": 19,
   "metadata": {},
   "outputs": [
    {
     "name": "stdout",
     "output_type": "stream",
     "text": [
      "[141, 6, 215, 75, 148, 164, 44, 162]\n"
     ]
    }
   ],
   "source": [
    "import random\n",
    "\n",
    "random.seed(0xDEADBEED)\n",
    "mylist = []  # an empty list\n",
    "\n",
    "i = 0\n",
    "num = 1\n",
    "for j in range(0, num):\n",
    "    \n",
    "    #creates a new key\n",
    "    for i in range(0, 8):\n",
    "        myrandom = random.randint(0, 255)\n",
    "        mylist.append(myrandom)\n",
    "    \n",
    "    #use previous key as seed for next iteration\n",
    "    \n",
    "    #seed = new Seed\n",
    "\n",
    "print(mylist)"
   ]
  },
  {
   "cell_type": "markdown",
   "metadata": {},
   "source": [
    "PBKDF2:"
   ]
  },
  {
   "cell_type": "code",
   "execution_count": null,
   "metadata": {},
   "outputs": [],
   "source": [
    "from Crypto.Protocol.KDF import PBKDF2\n",
    "from Crypto.Hash import SHA256\n",
    "from Crypto.Random import get_random_bytes\n",
    "\n",
    "def generate_keys_pbk(n):\n",
    "    \n",
    "    with open('secret_build_output.txt', 'r') as fp:\n",
    "        password = fp.read()\n",
    "    \n",
    "    salt = get_random_bytes(16)\n",
    "    iteration = n\n",
    "    keys = PBKDF2(password, salt, 32, count=iteration, hmac_hash_module=SHA256)\n",
    "    key1 = keys[:16]\n",
    "    key2 = keys[16:]\n",
    "\n",
    "    print(key1)\n",
    "    print(key2)\n",
    "    \n",
    "    return key1, key2, salt\n",
    "\n",
    "generate_keys_pbk(1000000)"
   ]
  },
  {
   "cell_type": "code",
   "execution_count": null,
   "metadata": {},
   "outputs": [],
   "source": []
  }
 ],
 "metadata": {
  "kernelspec": {
   "display_name": "Python 3",
   "language": "python",
   "name": "python3"
  },
  "language_info": {
   "codemirror_mode": {
    "name": "ipython",
    "version": 3
   },
   "file_extension": ".py",
   "mimetype": "text/x-python",
   "name": "python",
   "nbconvert_exporter": "python",
   "pygments_lexer": "ipython3",
   "version": "3.7.6"
  }
 },
 "nbformat": 4,
 "nbformat_minor": 4
}
